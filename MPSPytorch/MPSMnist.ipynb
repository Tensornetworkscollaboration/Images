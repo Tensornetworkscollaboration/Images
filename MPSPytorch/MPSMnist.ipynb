{
 "cells": [
  {
   "cell_type": "markdown",
   "metadata": {},
   "source": [
    "# MPS and MNIST\n",
    "\n",
    "This tutorial aims to implement MPS algorithm in the analysis of the standard MNIST experiment. We start with the typical headers importing pytorch utilities and its MPS implementation"
   ]
  },
  {
   "cell_type": "code",
   "execution_count": 1,
   "metadata": {},
   "outputs": [],
   "source": [
    "import time\n",
    "import torch\n",
    "from torchmps import MPS\n",
    "from torchvision import transforms, datasets"
   ]
  },
  {
   "cell_type": "markdown",
   "metadata": {},
   "source": [
    "1 `time`: Python has a module named time to handle time-related tasks. \n",
    "\n",
    "2 `torch`: Backend with utilities in ML\n",
    "\n",
    "3 `TorchMPS`: TorchMPS is a framework for working with matrix product state (also known as MPS or tensor train) models within Pytorch. Our MPS models are written as Pytorch Modules, and can simply be viewed as differentiable black boxes that are interchangeable with standard neural network layers. However, the rich structure of MPS's allows for more interesting behavior, such as: \n",
    "\n",
    "* A novel adaptive training algorithm (inspired by Stoudenmire and Schwab 2016), which dynamically varies the MPS hyperparameters (MPS bond dimensions) during the course of training.\n",
    "\n",
    "* Mechanisms for controlling MPS geometry, such as custom \"routing\" of the MPS through different regions of the input data, or periodic boundary conditions that give the MPS a circular topology.\n",
    "\n",
    "* Choice of tensor contraction strategies, which represent flexible tradeoffs between computational cost and parallelizability of the computation graph.\n",
    "\n",
    "\n",
    "4 `torchvision`: This package consists of popular datasets, model architectures, and common image transformations for computer vision."
   ]
  },
  {
   "cell_type": "code",
   "execution_count": 2,
   "metadata": {},
   "outputs": [],
   "source": [
    "# esthetic definitions for the plots\n",
    "title_font = {'fontname':'Arial', 'size':'16', 'color':'black', 'weight':'normal',\n",
    "              'verticalalignment':'bottom'} # Bottom vertical alignment for more space\n",
    "axis_font = {'fontname':'Arial', 'size':'14'}\n",
    "\n",
    "import matplotlib.pyplot as plt # for plotting"
   ]
  },
  {
   "cell_type": "markdown",
   "metadata": {},
   "source": [
    "We need to plot our results. For this result we will use matplotlib properties."
   ]
  },
  {
   "cell_type": "code",
   "execution_count": 3,
   "metadata": {},
   "outputs": [],
   "source": [
    "# Miscellaneous initialization\n",
    "torch.manual_seed(0)\n",
    "start_time = time.time()"
   ]
  },
  {
   "cell_type": "markdown",
   "metadata": {},
   "source": [
    "Now we will be hands on!. \n",
    "\n",
    "1 `torch.manual_seed(0)`: manual_seed sets the random seed from pytorch random number generators\n",
    "\n",
    "2 `time.time()`: The time() function returns the number of seconds passed since epoch."
   ]
  },
  {
   "cell_type": "code",
   "execution_count": 4,
   "metadata": {},
   "outputs": [],
   "source": [
    "# MPS parameters\n",
    "\n",
    "bond_dim      = 20\n",
    "adaptive_mode = False\n",
    "periodic_bc   = False"
   ]
  },
  {
   "cell_type": "markdown",
   "metadata": {},
   "source": [
    "These ones behave as parameters in the algorithm.\n",
    "\n",
    "* `bond_dim`: The internal bond dimension, a hyperparameter that sets the expressivity of our MPS. When in adaptive training mode, bond_dim instead sets the maximum possible bond dimension, with the initial bond dimension equal to output_dim.      \n",
    "* `adaptive_mode`: Whether our MPS is trained with its bond dimensions chosen adaptively or are fixed at creation (default = False (fixed bonds)). \n",
    "* `periodic_bc`: Whether our MPS has periodic boundary conditions (making it a tensor ring) or open boundary conditions (default = False (open boundaries)).   "
   ]
  },
  {
   "cell_type": "code",
   "execution_count": 5,
   "metadata": {},
   "outputs": [],
   "source": [
    "# Training parameters\n",
    "num_train  = 2000\n",
    "num_test   = 1000\n",
    "batch_size = 100\n",
    "num_epochs = 20\n",
    "learn_rate = 1e-4\n",
    "l2_reg     = 0."
   ]
  },
  {
   "cell_type": "markdown",
   "metadata": {},
   "source": [
    "* `num_train`: Number of samples for training.\n",
    "* `num_test`:  Number of samples for testing.\n",
    "* `batch_size`: The batch size defines the number of samples that will be propagated through the architecture. \n",
    "* `num_epochs`: One Epoch is when an ENTIRE dataset is passed forward and backward through the neural network only ONCE. \n",
    "* `learn_rate`: The learning rate is a hyperparameter that controls how much to change the model in response to the estimated error each time the model weights are updated.  \n",
    "* `l2_reg`:   When training neural networks, it is common to use \"weight decay,\" where after each update, the weights are multiplied by a factor slightly less than 1. This prevents the weights from growing too large, and can be seen as gradient descent on a quadratic regularization term. "
   ]
  },
  {
   "cell_type": "code",
   "execution_count": 6,
   "metadata": {},
   "outputs": [],
   "source": [
    "# Initialize the MPS module\n",
    "mps = MPS(input_dim=28**2, output_dim=10, bond_dim=bond_dim, \n",
    "          adaptive_mode=adaptive_mode, periodic_bc=periodic_bc)"
   ]
  },
  {
   "cell_type": "markdown",
   "metadata": {},
   "source": [
    "* `input_dim`: The dimension of the input we feed to our MPS\n",
    "* `output_dim`: The dimension of the output we get from each input"
   ]
  },
  {
   "cell_type": "code",
   "execution_count": 7,
   "metadata": {},
   "outputs": [],
   "source": [
    "# Set our loss function and optimizer\n",
    "loss_fun = torch.nn.CrossEntropyLoss()\n",
    "optimizer = torch.optim.Adam(mps.parameters(), lr=learn_rate, weight_decay=l2_reg)"
   ]
  },
  {
   "cell_type": "markdown",
   "metadata": {},
   "source": [
    "* `Cross_EntropyLoss() `: Cross-entropy loss, or log loss, measures the performance of a classification model whose output is a probability value between 0 and 1. Cross-entropy loss increases as the predicted probability diverges from the actual label. So predicting a probability of .012 when the actual observation label is 1 would be bad and result in a high loss value. A perfect model would have a log loss of 0.\n",
    "\n",
    "* `Adam.optimizer`: Adam is an optimization algorithm that can be used instead of the classical stochastic gradient descent procedure to update network weights iterative based in training data.\n",
    "Adam combines the advantages of two other extensions of stochastic gradient descent. Specifically:\n",
    "\n",
    "* Adaptive Gradient Algorithm (AdaGrad) that maintains a per-parameter learning rate that improves performance on problems with sparse gradients (e.g. natural language and computer vision problems).\n",
    "\n",
    "* Root Mean Square Propagation (RMSProp) that also maintains per-parameter learning rates that are adapted based on the average of recent magnitudes of the gradients for the weight (e.g. how quickly it is changing). This means the algorithm does well on online and non-stationary problems (e.g. noisy)."
   ]
  },
  {
   "cell_type": "code",
   "execution_count": 8,
   "metadata": {},
   "outputs": [],
   "source": [
    "# Get the training and test sets\n",
    "transform = transforms.ToTensor()\n",
    "train_set = datasets.MNIST('./mnist', download=True, transform=transform)\n",
    "test_set = datasets.MNIST('./mnist', download=True, transform=transform,train=False)"
   ]
  },
  {
   "cell_type": "markdown",
   "metadata": {},
   "source": [
    "* `transforms.ToTensor()`: This just converts your input image to PyTorch tensor.\n",
    "A `torch.Tensor` is a multi-dimensional matrix containing elements of a single data type.\n",
    "\n"
   ]
  },
  {
   "cell_type": "code",
   "execution_count": 9,
   "metadata": {},
   "outputs": [],
   "source": [
    "# Put MNIST data into dataloaders\n",
    "samplers = {'train': torch.utils.data.SubsetRandomSampler(range(num_train)),\n",
    "            'test': torch.utils.data.SubsetRandomSampler(range(num_test))}\n",
    "loaders = {name: torch.utils.data.DataLoader(dataset, batch_size=batch_size, \n",
    "           sampler=samplers[name], drop_last=True) for (name, dataset) in \n",
    "           [('train', train_set), ('test', test_set)]}\n",
    "num_batches = {name: total_num // batch_size for (name, total_num) in\n",
    "               [('train', num_train), ('test', num_test)]}"
   ]
  },
  {
   "cell_type": "markdown",
   "metadata": {},
   "source": [
    "* `torch.utils.data.SubsetRandomSampler()`: Samples elements randomly from a given list of indices, without replacement.\n",
    "\n",
    "* `torch.utils.data.DataLoader`: Combines a dataset and a sampler, and provides an iterable over the given dataset."
   ]
  },
  {
   "cell_type": "code",
   "execution_count": 10,
   "metadata": {},
   "outputs": [
    {
     "name": "stdout",
     "output_type": "stream",
     "text": [
      "Training on 2000 MNIST images \n",
      "(testing on 1000) for 20 epochs\n",
      "Maximum MPS bond dimension = 20\n",
      " * Fixed bond dimensions\n",
      " * Open boundary conditions\n",
      "Using Adam w/ learning rate = 1.0e-04\n"
     ]
    }
   ],
   "source": [
    "print(f\"Training on {num_train} MNIST images \\n\"\n",
    "      f\"(testing on {num_test}) for {num_epochs} epochs\")\n",
    "print(f\"Maximum MPS bond dimension = {bond_dim}\")\n",
    "print(f\" * {'Adaptive' if adaptive_mode else 'Fixed'} bond dimensions\")\n",
    "print(f\" * {'Periodic' if periodic_bc else 'Open'} boundary conditions\")\n",
    "print(f\"Using Adam w/ learning rate = {learn_rate:.1e}\")\n",
    "if l2_reg > 0:\n",
    "    print(f\" * L2 regularization = {l2_reg:.2e}\")"
   ]
  },
  {
   "cell_type": "markdown",
   "metadata": {},
   "source": [
    "## Training\n",
    "\n",
    "Now, we start with MPS training!"
   ]
  },
  {
   "cell_type": "code",
   "execution_count": 11,
   "metadata": {},
   "outputs": [
    {
     "name": "stdout",
     "output_type": "stream",
     "text": [
      "### Epoch 1 ###\n",
      "Average loss:           2.2725\n",
      "Average train accuracy: 0.1380\n",
      "Test accuracy:          0.1570\n",
      "Runtime so far:         53 sec\n",
      "\n",
      "### Epoch 2 ###\n",
      "Average loss:           1.7856\n",
      "Average train accuracy: 0.3255\n",
      "Test accuracy:          0.4630\n",
      "Runtime so far:         92 sec\n",
      "\n",
      "### Epoch 3 ###\n",
      "Average loss:           1.1898\n",
      "Average train accuracy: 0.6135\n",
      "Test accuracy:          0.6560\n",
      "Runtime so far:         135 sec\n",
      "\n",
      "### Epoch 4 ###\n",
      "Average loss:           0.7045\n",
      "Average train accuracy: 0.7735\n",
      "Test accuracy:          0.7750\n",
      "Runtime so far:         178 sec\n",
      "\n",
      "### Epoch 5 ###\n",
      "Average loss:           0.4400\n",
      "Average train accuracy: 0.8705\n",
      "Test accuracy:          0.8120\n",
      "Runtime so far:         225 sec\n",
      "\n",
      "### Epoch 6 ###\n",
      "Average loss:           0.3513\n",
      "Average train accuracy: 0.9010\n",
      "Test accuracy:          0.8360\n",
      "Runtime so far:         270 sec\n",
      "\n",
      "### Epoch 7 ###\n",
      "Average loss:           0.2673\n",
      "Average train accuracy: 0.9145\n",
      "Test accuracy:          0.8590\n",
      "Runtime so far:         317 sec\n",
      "\n",
      "### Epoch 8 ###\n",
      "Average loss:           0.2132\n",
      "Average train accuracy: 0.9385\n",
      "Test accuracy:          0.8680\n",
      "Runtime so far:         365 sec\n",
      "\n",
      "### Epoch 9 ###\n",
      "Average loss:           0.2045\n",
      "Average train accuracy: 0.9360\n",
      "Test accuracy:          0.8790\n",
      "Runtime so far:         412 sec\n",
      "\n",
      "### Epoch 10 ###\n",
      "Average loss:           0.1621\n",
      "Average train accuracy: 0.9435\n",
      "Test accuracy:          0.8720\n",
      "Runtime so far:         457 sec\n",
      "\n",
      "### Epoch 11 ###\n",
      "Average loss:           0.1272\n",
      "Average train accuracy: 0.9605\n",
      "Test accuracy:          0.8920\n",
      "Runtime so far:         507 sec\n",
      "\n",
      "### Epoch 12 ###\n",
      "Average loss:           0.1095\n",
      "Average train accuracy: 0.9615\n",
      "Test accuracy:          0.8840\n",
      "Runtime so far:         554 sec\n",
      "\n",
      "### Epoch 13 ###\n",
      "Average loss:           0.0956\n",
      "Average train accuracy: 0.9635\n",
      "Test accuracy:          0.8950\n",
      "Runtime so far:         601 sec\n",
      "\n",
      "### Epoch 14 ###\n",
      "Average loss:           0.0787\n",
      "Average train accuracy: 0.9660\n",
      "Test accuracy:          0.8970\n",
      "Runtime so far:         649 sec\n",
      "\n",
      "### Epoch 15 ###\n",
      "Average loss:           0.0688\n",
      "Average train accuracy: 0.9745\n",
      "Test accuracy:          0.8840\n",
      "Runtime so far:         695 sec\n",
      "\n",
      "### Epoch 16 ###\n",
      "Average loss:           0.0579\n",
      "Average train accuracy: 0.9800\n",
      "Test accuracy:          0.8790\n",
      "Runtime so far:         743 sec\n",
      "\n",
      "### Epoch 17 ###\n",
      "Average loss:           0.0517\n",
      "Average train accuracy: 0.9825\n",
      "Test accuracy:          0.8880\n",
      "Runtime so far:         788 sec\n",
      "\n",
      "### Epoch 18 ###\n",
      "Average loss:           0.0618\n",
      "Average train accuracy: 0.9810\n",
      "Test accuracy:          0.8890\n",
      "Runtime so far:         830 sec\n",
      "\n",
      "### Epoch 19 ###\n",
      "Average loss:           0.0607\n",
      "Average train accuracy: 0.9760\n",
      "Test accuracy:          0.8700\n",
      "Runtime so far:         873 sec\n",
      "\n",
      "### Epoch 20 ###\n",
      "Average loss:           0.0571\n",
      "Average train accuracy: 0.9810\n",
      "Test accuracy:          0.8810\n",
      "Runtime so far:         919 sec\n",
      "\n"
     ]
    }
   ],
   "source": [
    "# Let's start training!\n",
    "iters  = []\n",
    "losses = []\n",
    "accur_train = []\n",
    "accur_test  = []\n",
    "\n",
    "for epoch_num in range(1, num_epochs+1):\n",
    "    running_loss = 0.\n",
    "    running_acc = 0.\n",
    "\n",
    "    for inputs, labels in loaders['train']:\n",
    "        inputs, labels = inputs.view([batch_size, 28**2]), labels.data\n",
    "\n",
    "        # Call our MPS to get logit scores and predictions\n",
    "        scores = mps(inputs)\n",
    "        _, preds = torch.max(scores, 1)\n",
    "\n",
    "        # Compute the loss and accuracy, add them to the running totals\n",
    "        loss = loss_fun(scores, labels)\n",
    "        with torch.no_grad():\n",
    "            accuracy = torch.sum(preds == labels).item() / batch_size\n",
    "            running_loss += loss\n",
    "            running_acc += accuracy\n",
    "            \n",
    "            \n",
    "        # Backpropagate and update parameters\n",
    "        optimizer.zero_grad()\n",
    "        loss.backward()\n",
    "        optimizer.step()\n",
    "        \n",
    "    accur_train.append(running_acc/num_batches['train'])          \n",
    "    print(f\"### Epoch {epoch_num} ###\")\n",
    "    print(f\"Average loss:           {running_loss / num_batches['train']:.4f}\")\n",
    "    print(f\"Average train accuracy: {running_acc / num_batches['train']:.4f}\")\n",
    "    \n",
    "    # Evaluate accuracy of MPS classifier on the test set\n",
    "    with torch.no_grad():\n",
    "        running_acc = 0.\n",
    "\n",
    "        for inputs, labels in loaders['test']:\n",
    "            inputs, labels = inputs.view([batch_size, 28**2]), labels.data\n",
    "\n",
    "            # Call our MPS to get logit scores and predictions\n",
    "            scores = mps(inputs)\n",
    "            _, preds = torch.max(scores, 1)\n",
    "            running_acc += torch.sum(preds == labels).item() / batch_size\n",
    "             \n",
    "          \n",
    "    iters.append(epoch_num)\n",
    "    losses.append(running_loss/batch_size)\n",
    "    accur_test.append(running_acc/num_batches['test'])\n",
    "          \n",
    "    print(f\"Test accuracy:          {running_acc / num_batches['test']:.4f}\")\n",
    "    print(f\"Runtime so far:         {int(time.time()-start_time)} sec\\n\")\n"
   ]
  },
  {
   "cell_type": "markdown",
   "metadata": {},
   "source": [
    "## Loss and accuracy Plot\n",
    "\n",
    "Plot loss and accuracy outcomes of our training. First, we define ethetics of the plots."
   ]
  },
  {
   "cell_type": "code",
   "execution_count": 12,
   "metadata": {},
   "outputs": [],
   "source": [
    "title_font = {'fontname':'serif', 'size':'24', 'color':'black', 'weight':'normal',\n",
    "              'verticalalignment':'bottom'} # Bottom vertical alignment for more space\n",
    "axis_font = {'fontname':'serif', 'size':'18'}"
   ]
  },
  {
   "cell_type": "markdown",
   "metadata": {},
   "source": [
    "### Loss"
   ]
  },
  {
   "cell_type": "code",
   "execution_count": 28,
   "metadata": {},
   "outputs": [
    {
     "data": {
      "image/png": "[encoded data removed]",
      "text/plain": [
       "<Figure size 864x576 with 1 Axes>"
      ]
     },
     "metadata": {
      "needs_background": "light"
     },
     "output_type": "display_data"
    }
   ],
   "source": [
    "plt.figure(figsize=(12,8))\n",
    "plt.plot(iters, losses,marker='o', markerfacecolor='blue', markersize=8, color='blue',label='train')\n",
    "plt.title(\"MPS-Training Curve (bond={})\".format(bond_dim), fontsize=16,)\n",
    "plt.xlabel(\"Iterations\")\n",
    "plt.ylabel(\"Loss\")\n",
    "plt.ylabel('Loss',**axis_font)\n",
    "plt.xlabel('Epoch',**axis_font)\n",
    "plt.tick_params(axis=\"x\", labelsize=16)\n",
    "plt.tick_params(axis=\"y\", labelsize=16)\n",
    "plt.grid(b=True, which='major', color='#999999', linestyle='-')\n",
    "plt.minorticks_on()\n",
    "plt.grid(b=True, which='minor', color='#999999', linestyle='-', alpha=0.2)\n",
    "plt.show()          "
   ]
  },
  {
   "cell_type": "markdown",
   "metadata": {},
   "source": [
    "### Accuracy"
   ]
  },
  {
   "cell_type": "code",
   "execution_count": 27,
   "metadata": {},
   "outputs": [
    {
     "data": {
      "image/png": "[encoded data removed]",
      "text/plain": [
       "<Figure size 864x576 with 1 Axes>"
      ]
     },
     "metadata": {
      "needs_background": "light"
     },
     "output_type": "display_data"
    }
   ],
   "source": [
    "plt.figure(figsize=(12,8))\n",
    "plt.plot(iters, accur_train,marker='o', markerfacecolor='skyblue', markersize=8, color='skyblue',label='train')\n",
    "plt.plot(iters, accur_test,marker='o', markerfacecolor='orange', markersize=8, color='orange',label='test')\n",
    "plt.legend()\n",
    "plt.title(\"MPS Test and train Curve (bond={})\".format(bond_dim), fontsize=16)\n",
    "plt.xlabel(\"Iterations\")\n",
    "plt.ylabel(\"Accuracy\")\n",
    "plt.ylabel('Accuracy',**axis_font)\n",
    "plt.xlabel('Epoch',**axis_font)\n",
    "plt.tick_params(axis=\"x\", labelsize=16)\n",
    "plt.tick_params(axis=\"y\", labelsize=16)\n",
    "plt.grid(b=True, which='major', color='#999999', linestyle='-')\n",
    "plt.minorticks_on()\n",
    "plt.grid(b=True, which='minor', color='#999999', linestyle='-', alpha=0.2)\n",
    "plt.show()          "
   ]
  },
  {
   "cell_type": "code",
   "execution_count": null,
   "metadata": {},
   "outputs": [],
   "source": []
  }
 ],
 "metadata": {
  "kernelspec": {
   "display_name": "Python 3",
   "language": "python",
   "name": "python3"
  },
  "language_info": {
   "codemirror_mode": {
    "name": "ipython",
    "version": 3
   },
   "file_extension": ".py",
   "mimetype": "text/x-python",
   "name": "python",
   "nbconvert_exporter": "python",
   "pygments_lexer": "ipython3",
   "version": "3.7.3"
  }
 },
 "nbformat": 4,
 "nbformat_minor": 2
}
